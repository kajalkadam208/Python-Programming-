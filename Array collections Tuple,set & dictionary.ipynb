{
 "cells": [
  {
   "cell_type": "markdown",
   "id": "00a02528",
   "metadata": {},
   "source": [
    "# Tuple"
   ]
  },
  {
   "cell_type": "code",
   "execution_count": 1,
   "id": "95b73fc4",
   "metadata": {},
   "outputs": [],
   "source": [
    "#collection of multiple items stored in single variale.\n",
    "#unchangeable\n",
    "#indexed and ordered.\n",
    "#allows the duplicate items.\n",
    "#it defines in().\n"
   ]
  },
  {
   "cell_type": "code",
   "execution_count": 2,
   "id": "7f3dff80",
   "metadata": {},
   "outputs": [
    {
     "data": {
      "text/plain": [
       "4"
      ]
     },
     "execution_count": 2,
     "metadata": {},
     "output_type": "execute_result"
    }
   ],
   "source": [
    "cities=(\"Pune\",\"Karad\",\"Satara\",\"Sangli\")\n",
    "len(cities)"
   ]
  },
  {
   "cell_type": "markdown",
   "id": "0d89c545",
   "metadata": {},
   "source": [
    "# Set"
   ]
  },
  {
   "cell_type": "code",
   "execution_count": 4,
   "id": "3b8fa04c",
   "metadata": {},
   "outputs": [],
   "source": [
    "#collection of multiple items stored in single variale.\n",
    "#changeable\n",
    "#unindexed and unordered.\n",
    "#does not allows the duplicate items.\n",
    "#it defines in {}.\n"
   ]
  },
  {
   "cell_type": "code",
   "execution_count": 6,
   "id": "a8e3c8f3",
   "metadata": {},
   "outputs": [],
   "source": [
    "#methods to add values in sets\n",
    "#add\n",
    "#update\n",
    "cities={\"Pune\",\"Karad\",\"Satara\",\"Sangli\"}\n",
    "cities.add(\"Kolhapur\")\n"
   ]
  },
  {
   "cell_type": "code",
   "execution_count": 7,
   "id": "7bf7c1ac",
   "metadata": {},
   "outputs": [
    {
     "data": {
      "text/plain": [
       "{'Karad', 'Kolhapur', 'Pune', 'Sangli', 'Satara'}"
      ]
     },
     "execution_count": 7,
     "metadata": {},
     "output_type": "execute_result"
    }
   ],
   "source": [
    "cities"
   ]
  },
  {
   "cell_type": "code",
   "execution_count": 8,
   "id": "dc81e36d",
   "metadata": {},
   "outputs": [],
   "source": [
    "cities={\"Pune\",\"Karad\",\"Satara\",\"Sangli\"}\n",
    "cities1={\"Nashik\",\"Islampur\"}\n",
    "cities.update(cities1)"
   ]
  },
  {
   "cell_type": "code",
   "execution_count": 9,
   "id": "7f144ebf",
   "metadata": {},
   "outputs": [
    {
     "data": {
      "text/plain": [
       "{'Islampur', 'Karad', 'Nashik', 'Pune', 'Sangli', 'Satara'}"
      ]
     },
     "execution_count": 9,
     "metadata": {},
     "output_type": "execute_result"
    }
   ],
   "source": [
    "cities"
   ]
  },
  {
   "cell_type": "code",
   "execution_count": null,
   "id": "2a34af11",
   "metadata": {},
   "outputs": [],
   "source": [
    "#methods to remove value in sets\n",
    "#remove\n",
    "#discard\n",
    "#clear\n",
    "#pop()\n"
   ]
  },
  {
   "cell_type": "code",
   "execution_count": 12,
   "id": "800a91ac",
   "metadata": {},
   "outputs": [
    {
     "data": {
      "text/plain": [
       "{'Karad', 'Sangli', 'Satara'}"
      ]
     },
     "execution_count": 12,
     "metadata": {},
     "output_type": "execute_result"
    }
   ],
   "source": [
    "cities={\"Pune\",\"Karad\",\"Satara\",\"Sangli\"}\n",
    "cities.pop()\n",
    "cities"
   ]
  },
  {
   "cell_type": "code",
   "execution_count": 15,
   "id": "9afb4755",
   "metadata": {},
   "outputs": [],
   "source": [
    "cities={\"Pune\",\"Karad\",\"Satara\",\"Sangli\"}\n",
    "cities.remove(\"Karad\")"
   ]
  },
  {
   "cell_type": "code",
   "execution_count": 17,
   "id": "c1589749",
   "metadata": {},
   "outputs": [
    {
     "data": {
      "text/plain": [
       "{'Pune', 'Sangli', 'Satara'}"
      ]
     },
     "execution_count": 17,
     "metadata": {},
     "output_type": "execute_result"
    }
   ],
   "source": [
    "cities"
   ]
  },
  {
   "cell_type": "code",
   "execution_count": 18,
   "id": "861f7f8f",
   "metadata": {},
   "outputs": [],
   "source": [
    "cities={\"Pune\",\"Karad\",\"Satara\",\"Sangli\"}\n",
    "cities.discard(\"Satara\")"
   ]
  },
  {
   "cell_type": "code",
   "execution_count": 19,
   "id": "97ba6bc8",
   "metadata": {},
   "outputs": [
    {
     "data": {
      "text/plain": [
       "{'Karad', 'Pune', 'Sangli'}"
      ]
     },
     "execution_count": 19,
     "metadata": {},
     "output_type": "execute_result"
    }
   ],
   "source": [
    "cities"
   ]
  },
  {
   "cell_type": "code",
   "execution_count": 20,
   "id": "bd67cfb7",
   "metadata": {},
   "outputs": [],
   "source": [
    "cities.clear()"
   ]
  },
  {
   "cell_type": "code",
   "execution_count": 21,
   "id": "1071efe4",
   "metadata": {},
   "outputs": [
    {
     "data": {
      "text/plain": [
       "set()"
      ]
     },
     "execution_count": 21,
     "metadata": {},
     "output_type": "execute_result"
    }
   ],
   "source": [
    "cities"
   ]
  },
  {
   "cell_type": "code",
   "execution_count": 27,
   "id": "7c6d79f4",
   "metadata": {},
   "outputs": [
    {
     "ename": "KeyError",
     "evalue": "'Delhi'",
     "output_type": "error",
     "traceback": [
      "\u001b[1;31m---------------------------------------------------------------------------\u001b[0m",
      "\u001b[1;31mKeyError\u001b[0m                                  Traceback (most recent call last)",
      "\u001b[1;32m~\\AppData\\Local\\Temp\\ipykernel_5444\\2962289701.py\u001b[0m in \u001b[0;36m<module>\u001b[1;34m\u001b[0m\n\u001b[0;32m      1\u001b[0m \u001b[0mcities\u001b[0m\u001b[1;33m=\u001b[0m\u001b[1;33m{\u001b[0m\u001b[1;34m\"Pune\"\u001b[0m\u001b[1;33m,\u001b[0m\u001b[1;34m\"Karad\"\u001b[0m\u001b[1;33m,\u001b[0m\u001b[1;34m\"Satara\"\u001b[0m\u001b[1;33m,\u001b[0m\u001b[1;34m\"Sangli\"\u001b[0m\u001b[1;33m}\u001b[0m\u001b[1;33m\u001b[0m\u001b[1;33m\u001b[0m\u001b[0m\n\u001b[1;32m----> 2\u001b[1;33m \u001b[0mcities\u001b[0m\u001b[1;33m.\u001b[0m\u001b[0mremove\u001b[0m\u001b[1;33m(\u001b[0m\u001b[1;34m\"Delhi\"\u001b[0m\u001b[1;33m)\u001b[0m\u001b[1;33m\u001b[0m\u001b[1;33m\u001b[0m\u001b[0m\n\u001b[0m",
      "\u001b[1;31mKeyError\u001b[0m: 'Delhi'"
     ]
    }
   ],
   "source": [
    "cities={\"Pune\",\"Karad\",\"Satara\",\"Sangli\"}\n",
    "cities.remove(\"Delhi\")"
   ]
  },
  {
   "cell_type": "code",
   "execution_count": 28,
   "id": "1c0844e8",
   "metadata": {},
   "outputs": [],
   "source": [
    "cities={\"Pune\",\"Karad\",\"Satara\",\"Sangli\"}\n",
    "cities.discard(\"Delhi\")"
   ]
  },
  {
   "cell_type": "code",
   "execution_count": 29,
   "id": "31564995",
   "metadata": {},
   "outputs": [
    {
     "data": {
      "text/plain": [
       "{'Karad', 'Pune', 'Sangli', 'Satara'}"
      ]
     },
     "execution_count": 29,
     "metadata": {},
     "output_type": "execute_result"
    }
   ],
   "source": [
    "cities"
   ]
  },
  {
   "cell_type": "markdown",
   "id": "7657e15b",
   "metadata": {},
   "source": [
    "# Dictionary"
   ]
  },
  {
   "cell_type": "code",
   "execution_count": null,
   "id": "377c7450",
   "metadata": {},
   "outputs": [],
   "source": [
    "#collection of key-value pairs\n",
    "#changeable\n",
    "#indexed and ordered.\n",
    "#values are duplicate allows but key is unique.\n",
    "#it defines in{}.\n"
   ]
  },
  {
   "cell_type": "code",
   "execution_count": 95,
   "id": "f94fb75a",
   "metadata": {},
   "outputs": [],
   "source": [
    "ab={\n",
    "    \"Name\":\"Kajal\",\n",
    "    \"Pincode\":415303,\n",
    "    \"city\":\"Pune\",\n",
    "    \"Area\":\"Sinhgad\"\n",
    "}\n",
    "\n"
   ]
  },
  {
   "cell_type": "code",
   "execution_count": 79,
   "id": "ab7a6a6b",
   "metadata": {},
   "outputs": [
    {
     "data": {
      "text/plain": [
       "{'Name': 'Kajal', 'Pincode': 415303, 'city': 'Pune', 'Area': 'Sinhgad'}"
      ]
     },
     "execution_count": 79,
     "metadata": {},
     "output_type": "execute_result"
    }
   ],
   "source": [
    "ab"
   ]
  },
  {
   "cell_type": "code",
   "execution_count": 34,
   "id": "e9459eb3",
   "metadata": {},
   "outputs": [],
   "source": [
    "ab[\"Surname\"]=\"Kadam\""
   ]
  },
  {
   "cell_type": "code",
   "execution_count": 35,
   "id": "fa6595f2",
   "metadata": {},
   "outputs": [
    {
     "data": {
      "text/plain": [
       "{'Name': 'Kajal',\n",
       " 'Pincode': 415303,\n",
       " 'city': 'Pune',\n",
       " 'Area': 'Sinhgad',\n",
       " 'Surname': 'Kadam'}"
      ]
     },
     "execution_count": 35,
     "metadata": {},
     "output_type": "execute_result"
    }
   ],
   "source": [
    "ab"
   ]
  },
  {
   "cell_type": "code",
   "execution_count": null,
   "id": "8a80ecf2",
   "metadata": {},
   "outputs": [],
   "source": [
    "#Add value\n",
    "#use update"
   ]
  },
  {
   "cell_type": "code",
   "execution_count": 42,
   "id": "78faee21",
   "metadata": {},
   "outputs": [],
   "source": [
    "ab.update({\"Mob\":962341})"
   ]
  },
  {
   "cell_type": "code",
   "execution_count": 43,
   "id": "9ffcf70c",
   "metadata": {},
   "outputs": [
    {
     "data": {
      "text/plain": [
       "{'Name': 'Kajal',\n",
       " 'Pincode': 415303,\n",
       " 'city': 'Pune',\n",
       " 'Area': 'Sinhgad',\n",
       " 'Surname': 'Kadam',\n",
       " 'Mob': 962341}"
      ]
     },
     "execution_count": 43,
     "metadata": {},
     "output_type": "execute_result"
    }
   ],
   "source": [
    "ab"
   ]
  },
  {
   "cell_type": "code",
   "execution_count": 45,
   "id": "d347bdc4",
   "metadata": {},
   "outputs": [
    {
     "name": "stdout",
     "output_type": "stream",
     "text": [
      "Name\n",
      "Pincode\n",
      "city\n",
      "Area\n",
      "Surname\n",
      "Mob\n"
     ]
    }
   ],
   "source": [
    "for x in ab.keys():\n",
    "    print(x)"
   ]
  },
  {
   "cell_type": "code",
   "execution_count": 80,
   "id": "eee9d6bf",
   "metadata": {},
   "outputs": [
    {
     "name": "stdout",
     "output_type": "stream",
     "text": [
      "Kajal\n",
      "415303\n",
      "Pune\n",
      "Sinhgad\n"
     ]
    }
   ],
   "source": [
    "for x in ab.values():\n",
    "    print(x)"
   ]
  },
  {
   "cell_type": "code",
   "execution_count": 81,
   "id": "81ae7665",
   "metadata": {},
   "outputs": [
    {
     "name": "stdout",
     "output_type": "stream",
     "text": [
      "Pune\n"
     ]
    }
   ],
   "source": [
    "x=ab.get(\"city\")\n",
    "print(x)"
   ]
  },
  {
   "cell_type": "code",
   "execution_count": 76,
   "id": "c5d70875",
   "metadata": {},
   "outputs": [],
   "source": [
    "#remove value in dictionary\n",
    "#clear\n",
    "#popitem\n",
    "#pop\n",
    "#del\n"
   ]
  },
  {
   "cell_type": "code",
   "execution_count": 63,
   "id": "c5cb0356",
   "metadata": {},
   "outputs": [],
   "source": [
    "ab.clear()"
   ]
  },
  {
   "cell_type": "code",
   "execution_count": 64,
   "id": "54db561f",
   "metadata": {},
   "outputs": [
    {
     "data": {
      "text/plain": [
       "{}"
      ]
     },
     "execution_count": 64,
     "metadata": {},
     "output_type": "execute_result"
    }
   ],
   "source": [
    "ab"
   ]
  },
  {
   "cell_type": "code",
   "execution_count": 89,
   "id": "1560dbd8",
   "metadata": {},
   "outputs": [
    {
     "data": {
      "text/plain": [
       "{'Name': 'Kajal', 'Pincode': 415303, 'city': 'Pune'}"
      ]
     },
     "execution_count": 89,
     "metadata": {},
     "output_type": "execute_result"
    }
   ],
   "source": [
    "ab.popitem()\n",
    "ab"
   ]
  },
  {
   "cell_type": "code",
   "execution_count": 94,
   "id": "335f6752",
   "metadata": {},
   "outputs": [
    {
     "data": {
      "text/plain": [
       "{'Pincode': 415303, 'city': 'Pune', 'Area': 'Sinhgad'}"
      ]
     },
     "execution_count": 94,
     "metadata": {},
     "output_type": "execute_result"
    }
   ],
   "source": [
    "ab.pop(\"Name\")\n",
    "ab"
   ]
  },
  {
   "cell_type": "code",
   "execution_count": 106,
   "id": "e4450315",
   "metadata": {},
   "outputs": [],
   "source": [
    "del ab[\"Pincode\"]"
   ]
  },
  {
   "cell_type": "code",
   "execution_count": 107,
   "id": "661f6e43",
   "metadata": {},
   "outputs": [
    {
     "data": {
      "text/plain": [
       "{'Name': 'Kajal', 'city': 'Pune', 'Area': 'Sinhgad'}"
      ]
     },
     "execution_count": 107,
     "metadata": {},
     "output_type": "execute_result"
    }
   ],
   "source": [
    "ab"
   ]
  },
  {
   "cell_type": "code",
   "execution_count": null,
   "id": "8cb2dc39",
   "metadata": {},
   "outputs": [],
   "source": []
  },
  {
   "cell_type": "code",
   "execution_count": null,
   "id": "3e0ea24d",
   "metadata": {},
   "outputs": [],
   "source": []
  }
 ],
 "metadata": {
  "kernelspec": {
   "display_name": "Python 3 (ipykernel)",
   "language": "python",
   "name": "python3"
  },
  "language_info": {
   "codemirror_mode": {
    "name": "ipython",
    "version": 3
   },
   "file_extension": ".py",
   "mimetype": "text/x-python",
   "name": "python",
   "nbconvert_exporter": "python",
   "pygments_lexer": "ipython3",
   "version": "3.9.13"
  }
 },
 "nbformat": 4,
 "nbformat_minor": 5
}
