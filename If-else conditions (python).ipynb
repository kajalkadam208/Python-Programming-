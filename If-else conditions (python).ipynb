{
 "cells": [
  {
   "cell_type": "code",
   "execution_count": 4,
   "id": "5ca8d5ab",
   "metadata": {},
   "outputs": [
    {
     "name": "stdout",
     "output_type": "stream",
     "text": [
      "Enter the number5\n",
      "Machine learning 5\n"
     ]
    }
   ],
   "source": [
    "a=int(input(\"Enter the number\"))\n",
    "if a==2:\n",
    "      print(\"Data science\",a)\n",
    "else:\n",
    "      print(\"Machine learning\",a)"
   ]
  },
  {
   "cell_type": "code",
   "execution_count": 5,
   "id": "4a9a2ebd",
   "metadata": {},
   "outputs": [
    {
     "name": "stdout",
     "output_type": "stream",
     "text": [
      "Enter the number2\n",
      "Data science 2\n"
     ]
    }
   ],
   "source": [
    "a=int(input(\"Enter the number\"))\n",
    "if a==2:\n",
    "      print(\"Data science\",a)\n",
    "else:\n",
    "      print(\"Machine learning\",a)"
   ]
  },
  {
   "cell_type": "code",
   "execution_count": 2,
   "id": "559484d1",
   "metadata": {},
   "outputs": [
    {
     "name": "stdout",
     "output_type": "stream",
     "text": [
      "Enter the number:7\n",
      "The given number is odd\n"
     ]
    }
   ],
   "source": [
    "#odd even\n",
    "a=int(input(\"Enter the number:\"))\n",
    "if a%2==0:\n",
    "    print(\"The given number is even\")\n",
    "else:\n",
    "    print(\"The given number is odd\")\n",
    "    "
   ]
  },
  {
   "cell_type": "code",
   "execution_count": 6,
   "id": "b6143c78",
   "metadata": {},
   "outputs": [
    {
     "name": "stdout",
     "output_type": "stream",
     "text": [
      "Enter the number9\n",
      "Number is positive\n"
     ]
    }
   ],
   "source": [
    "x=int(input(\"Enter the number\"))\n",
    "if x>0:\n",
    "    print(\"Number is positive\")\n",
    "elif x<0:\n",
    "    print(\"Number is negative\")\n",
    "else:\n",
    "    print(\"Number is zero\")"
   ]
  },
  {
   "cell_type": "code",
   "execution_count": 7,
   "id": "ca42c306",
   "metadata": {},
   "outputs": [
    {
     "name": "stdout",
     "output_type": "stream",
     "text": [
      "Enter the radius:5\n",
      "area of circle is: 78.55\n"
     ]
    }
   ],
   "source": [
    "#Area of circle\n",
    "r=int(input(\"Enter the radius:\"))\n",
    "p=3.142\n",
    "area=p*r*r\n",
    "print(\"area of circle is:\",area)\n"
   ]
  },
  {
   "cell_type": "code",
   "execution_count": 10,
   "id": "47f17871",
   "metadata": {},
   "outputs": [
    {
     "name": "stdout",
     "output_type": "stream",
     "text": [
      "Enter the number4\n",
      "login successfully\n"
     ]
    }
   ],
   "source": [
    "x=int(input(\"Enter the number\"))\n",
    "if x==4:\n",
    "    print(\"login successfully\")\n",
    "else:\n",
    "    print(\"invalid password\")"
   ]
  },
  {
   "cell_type": "code",
   "execution_count": 11,
   "id": "3e9282a2",
   "metadata": {},
   "outputs": [
    {
     "name": "stdout",
     "output_type": "stream",
     "text": [
      "Enter the number5\n",
      "Enter the number5\n",
      "Both nos are equal.\n"
     ]
    }
   ],
   "source": [
    "x=int(input(\"Enter the number\"))\n",
    "y=int(input(\"Enter the number\"))\n",
    "if x==y:\n",
    "    print(\"Both nos are equal.\")\n",
    "else:\n",
    "    print(\"Nos are unequal\")"
   ]
  },
  {
   "cell_type": "code",
   "execution_count": 12,
   "id": "75ba71a4",
   "metadata": {},
   "outputs": [
    {
     "name": "stdout",
     "output_type": "stream",
     "text": [
      "Enter the number6\n",
      "Enter the number8\n",
      "Nos are unequal\n"
     ]
    }
   ],
   "source": [
    "x=int(input(\"Enter the number\"))\n",
    "y=int(input(\"Enter the number\"))\n",
    "if x==y:\n",
    "    print(\"Both nos are equal.\")\n",
    "else:\n",
    "    print(\"Nos are unequal\")"
   ]
  },
  {
   "cell_type": "code",
   "execution_count": 1,
   "id": "703963d2",
   "metadata": {},
   "outputs": [
    {
     "name": "stdout",
     "output_type": "stream",
     "text": [
      "Enter first value:30\n",
      "Enter second value:20\n",
      "Not equal\n"
     ]
    }
   ],
   "source": [
    "a=input(\"Enter first value:\")\n",
    "b=input(\"Enter second value:\")\n",
    "if a==b:\n",
    "    print(\"correct\")\n",
    "else:\n",
    "    print(\"Not equal\")"
   ]
  },
  {
   "cell_type": "code",
   "execution_count": 2,
   "id": "93b49381",
   "metadata": {},
   "outputs": [
    {
     "name": "stdout",
     "output_type": "stream",
     "text": [
      "Enter the value:20\n",
      "Not correct\n",
      "Enter the value:30\n",
      "correct\n",
      "Enter the value:50\n",
      "correct\n",
      "Enter the value:10\n",
      "Not correct\n",
      "Enter the value:20\n",
      "Not correct\n"
     ]
    }
   ],
   "source": [
    "n=5\n",
    "for x in range(n):\n",
    "    a=int(input(\"Enter the value:\"))\n",
    "    if a>25 or a<10:\n",
    "        print(\"correct\")\n",
    "    else:\n",
    "        print(\"Not correct\")"
   ]
  },
  {
   "cell_type": "code",
   "execution_count": 4,
   "id": "e79b683d",
   "metadata": {},
   "outputs": [
    {
     "name": "stdout",
     "output_type": "stream",
     "text": [
      "Enter first number:20\n",
      "Enter second number:10\n",
      "divisible\n"
     ]
    }
   ],
   "source": [
    "a=int(input(\"Enter first number:\"))\n",
    "b=int(input(\"Enter second number:\"))\n",
    "if a%b==0:\n",
    "    print(\"divisible\")\n",
    "else:\n",
    "    print(\"Not divisible\")"
   ]
  },
  {
   "cell_type": "code",
   "execution_count": null,
   "id": "1ac5f0be",
   "metadata": {},
   "outputs": [],
   "source": []
  },
  {
   "cell_type": "code",
   "execution_count": null,
   "id": "f01a13b3",
   "metadata": {},
   "outputs": [],
   "source": []
  },
  {
   "cell_type": "code",
   "execution_count": null,
   "id": "1f6dacc2",
   "metadata": {},
   "outputs": [],
   "source": []
  }
 ],
 "metadata": {
  "kernelspec": {
   "display_name": "Python 3 (ipykernel)",
   "language": "python",
   "name": "python3"
  },
  "language_info": {
   "codemirror_mode": {
    "name": "ipython",
    "version": 3
   },
   "file_extension": ".py",
   "mimetype": "text/x-python",
   "name": "python",
   "nbconvert_exporter": "python",
   "pygments_lexer": "ipython3",
   "version": "3.9.13"
  }
 },
 "nbformat": 4,
 "nbformat_minor": 5
}
