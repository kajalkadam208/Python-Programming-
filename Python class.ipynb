{
 "cells": [
  {
   "cell_type": "code",
   "execution_count": 1,
   "id": "fd719654",
   "metadata": {},
   "outputs": [
    {
     "name": "stdout",
     "output_type": "stream",
     "text": [
      "30\n"
     ]
    }
   ],
   "source": [
    "class school():\n",
    "    def mouse(self):\n",
    "        self.a=10\n",
    "        self.b=20\n",
    "        print(self.a+self.b)\n",
    "        \n",
    "p1=school()\n",
    "p1.mouse()"
   ]
  },
  {
   "cell_type": "code",
   "execution_count": 2,
   "id": "108c42b7",
   "metadata": {},
   "outputs": [
    {
     "name": "stdout",
     "output_type": "stream",
     "text": [
      "50\n",
      "10\n",
      "600\n"
     ]
    }
   ],
   "source": [
    "class education():\n",
    "    def family(self):\n",
    "        self.a=30\n",
    "        self.b=20\n",
    "        print(self.a+self.b)\n",
    "        print(self.a-self.b)\n",
    "        print(self.a*self.b)\n",
    "        \n",
    "        \n",
    "p2=education()\n",
    "p2.family()"
   ]
  },
  {
   "cell_type": "code",
   "execution_count": 6,
   "id": "a59f508f",
   "metadata": {},
   "outputs": [
    {
     "name": "stdout",
     "output_type": "stream",
     "text": [
      "My addition is 40\n"
     ]
    }
   ],
   "source": [
    "class school():\n",
    "    def fam(self):\n",
    "        self.a=10\n",
    "        self.b=30\n",
    "    def tab(self):\n",
    "        print(\"My addition is\",self.a+self.b)\n",
    "        \n",
    "x1=school()\n",
    "x1.fam()\n",
    "x1.tab()"
   ]
  },
  {
   "cell_type": "code",
   "execution_count": 14,
   "id": "6880efe7",
   "metadata": {},
   "outputs": [],
   "source": [
    "class school():\n",
    "    def fam(self):\n",
    "        self.a=10\n",
    "        self.b=30\n",
    "    def tab(self,b1):\n",
    "        print(\"my city is:\",b1)\n",
    "        print(\"My addition is:\",self.a+self.b)\n",
    "    def show(self):\n",
    "        p2=4\n",
    "        for x in range (p2):\n",
    "            print(\"Data science\")\n",
    "        for x in range(self.a):\n",
    "            print(x)"
   ]
  },
  {
   "cell_type": "code",
   "execution_count": 15,
   "id": "1a532c26",
   "metadata": {},
   "outputs": [
    {
     "name": "stdout",
     "output_type": "stream",
     "text": [
      "my city is: Pune\n",
      "My addition is: 40\n",
      "Data science\n",
      "Data science\n",
      "Data science\n",
      "Data science\n",
      "0\n",
      "1\n",
      "2\n",
      "3\n",
      "4\n",
      "5\n",
      "6\n",
      "7\n",
      "8\n",
      "9\n"
     ]
    }
   ],
   "source": [
    "c1=school()\n",
    "c1.fam()\n",
    "c1.tab(\"Pune\")\n",
    "c1.show()"
   ]
  },
  {
   "cell_type": "code",
   "execution_count": null,
   "id": "e93d0f0e",
   "metadata": {},
   "outputs": [],
   "source": []
  }
 ],
 "metadata": {
  "kernelspec": {
   "display_name": "Python 3 (ipykernel)",
   "language": "python",
   "name": "python3"
  },
  "language_info": {
   "codemirror_mode": {
    "name": "ipython",
    "version": 3
   },
   "file_extension": ".py",
   "mimetype": "text/x-python",
   "name": "python",
   "nbconvert_exporter": "python",
   "pygments_lexer": "ipython3",
   "version": "3.9.13"
  }
 },
 "nbformat": 4,
 "nbformat_minor": 5
}
