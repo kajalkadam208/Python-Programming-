{
 "cells": [
  {
   "cell_type": "code",
   "execution_count": 1,
   "id": "ba7483c9",
   "metadata": {},
   "outputs": [
    {
     "name": "stdout",
     "output_type": "stream",
     "text": [
      "[1 2 3 4 5 6 6]\n"
     ]
    }
   ],
   "source": [
    "import numpy as np\n",
    "a=np.array([1,2,3,4,5,6,6])\n",
    "print(a)"
   ]
  },
  {
   "cell_type": "code",
   "execution_count": 2,
   "id": "cf960c13",
   "metadata": {},
   "outputs": [
    {
     "name": "stdout",
     "output_type": "stream",
     "text": [
      "1\n"
     ]
    }
   ],
   "source": [
    "#1 D array\n",
    "a=np.array([1,2,3,4,5,6,6])\n",
    "print(a.ndim)"
   ]
  },
  {
   "cell_type": "code",
   "execution_count": 3,
   "id": "068bdb0c",
   "metadata": {},
   "outputs": [
    {
     "name": "stdout",
     "output_type": "stream",
     "text": [
      "2\n"
     ]
    }
   ],
   "source": [
    "#2 D array\n",
    "a=np.array([[1,2,3,4,5,6,6]])\n",
    "print(a.ndim)"
   ]
  },
  {
   "cell_type": "code",
   "execution_count": 4,
   "id": "353ed271",
   "metadata": {},
   "outputs": [
    {
     "name": "stdout",
     "output_type": "stream",
     "text": [
      "3\n"
     ]
    }
   ],
   "source": [
    "#3 D array\n",
    "a=np.array([[[1,3,4,5,6,7]]])\n",
    "print(a.ndim)"
   ]
  },
  {
   "cell_type": "code",
   "execution_count": 6,
   "id": "054cb49e",
   "metadata": {},
   "outputs": [
    {
     "name": "stdout",
     "output_type": "stream",
     "text": [
      "0\n"
     ]
    }
   ],
   "source": [
    "#0 D array\n",
    "a=np.array(10)\n",
    "print(a.ndim)"
   ]
  },
  {
   "cell_type": "code",
   "execution_count": 7,
   "id": "34a2b904",
   "metadata": {},
   "outputs": [
    {
     "name": "stdout",
     "output_type": "stream",
     "text": [
      "[2, 3, 4, 5]\n",
      "[2, 5, 6, 7, 4]\n"
     ]
    }
   ],
   "source": [
    "ab=([[2,3,4,5],[2,5,6,7,4]])\n",
    "for x in ab:\n",
    "    print(x)"
   ]
  },
  {
   "cell_type": "code",
   "execution_count": 10,
   "id": "719c0702",
   "metadata": {},
   "outputs": [
    {
     "name": "stdout",
     "output_type": "stream",
     "text": [
      "[[[2 3 4]\n",
      "  [2 3 4]]\n",
      "\n",
      " [[2 3 4]\n",
      "  [2 3 4]]\n",
      "\n",
      " [[2 3 4]\n",
      "  [2 3 4]]\n",
      "\n",
      " [[2 3 4]\n",
      "  [2 3 4]]] --- 3\n"
     ]
    },
    {
     "data": {
      "text/plain": [
       "(4, 2, 3)"
      ]
     },
     "execution_count": 10,
     "metadata": {},
     "output_type": "execute_result"
    }
   ],
   "source": [
    "# 3 D Array\n",
    "a=np.array([[[2,3,4],[2,3,4]],[[2,3,4],[2,3,4]],[[2,3,4],[2,3,4]],[[2,3,4],[2,3,4]]])\n",
    "print(a,\"---\",a.ndim)\n",
    "a.shape"
   ]
  },
  {
   "cell_type": "code",
   "execution_count": 14,
   "id": "086c7a18",
   "metadata": {},
   "outputs": [
    {
     "name": "stdout",
     "output_type": "stream",
     "text": [
      "[[[2 3 4]\n",
      "  [1 2 3]]\n",
      "\n",
      " [[6 9 6]\n",
      "  [4 5 3]]\n",
      "\n",
      " [[3 2 5]\n",
      "  [3 5 6]]] --- 3\n",
      "(3, 2, 3)\n"
     ]
    }
   ],
   "source": [
    "a=np.array([[[2,3,4],[1,2,3]],[[6,9,6],[4,5,3]],[[3,2,5],[3,5,6]]])\n",
    "print(a,\"---\",a.ndim)\n",
    "print(a.shape)"
   ]
  },
  {
   "cell_type": "markdown",
   "id": "964a7e9d",
   "metadata": {},
   "source": [
    "# Array iterating"
   ]
  },
  {
   "cell_type": "code",
   "execution_count": 17,
   "id": "b737c4dd",
   "metadata": {},
   "outputs": [
    {
     "name": "stdout",
     "output_type": "stream",
     "text": [
      "[[2 3 4]\n",
      " [1 2 3]]\n",
      "[[6 9 6]\n",
      " [4 5 3]]\n",
      "[[3 2 5]\n",
      " [3 5 6]]\n"
     ]
    }
   ],
   "source": [
    "a=np.array([[[2,3,4],[1,2,3]],[[6,9,6],[4,5,3]],[[3,2,5],[3,5,6]]])\n",
    "for x in a:\n",
    "    print(x)"
   ]
  },
  {
   "cell_type": "code",
   "execution_count": 18,
   "id": "3f01e85b",
   "metadata": {},
   "outputs": [
    {
     "name": "stdout",
     "output_type": "stream",
     "text": [
      "[2 3 4]\n",
      "[1 2 3]\n",
      "[6 9 6]\n",
      "[4 5 3]\n",
      "[3 2 5]\n",
      "[3 5 6]\n"
     ]
    }
   ],
   "source": [
    "a=np.array([[[2,3,4],[1,2,3]],[[6,9,6],[4,5,3]],[[3,2,5],[3,5,6]]])\n",
    "for x in a:\n",
    "    for y in x:\n",
    "        print(y)"
   ]
  },
  {
   "cell_type": "code",
   "execution_count": 19,
   "id": "7a3851f0",
   "metadata": {},
   "outputs": [
    {
     "name": "stdout",
     "output_type": "stream",
     "text": [
      "2\n",
      "3\n",
      "4\n",
      "1\n",
      "2\n",
      "3\n",
      "6\n",
      "9\n",
      "6\n",
      "4\n",
      "5\n",
      "3\n",
      "3\n",
      "2\n",
      "5\n",
      "3\n",
      "5\n",
      "6\n"
     ]
    }
   ],
   "source": [
    "a=np.array([[[2,3,4],[1,2,3]],[[6,9,6],[4,5,3]],[[3,2,5],[3,5,6]]])\n",
    "for x in a:\n",
    "    for y in x:\n",
    "        for y1 in y:\n",
    "            print(y1)\n"
   ]
  },
  {
   "cell_type": "code",
   "execution_count": 20,
   "id": "39a20793",
   "metadata": {},
   "outputs": [
    {
     "name": "stdout",
     "output_type": "stream",
     "text": [
      "2\n"
     ]
    }
   ],
   "source": [
    "printlen(a))"
   ]
  },
  {
   "cell_type": "markdown",
   "id": "64b8d666",
   "metadata": {},
   "source": [
    "# Shape(Array)"
   ]
  },
  {
   "cell_type": "code",
   "execution_count": 2,
   "id": "e5815691",
   "metadata": {},
   "outputs": [
    {
     "data": {
      "text/plain": [
       "(7,)"
      ]
     },
     "execution_count": 2,
     "metadata": {},
     "output_type": "execute_result"
    }
   ],
   "source": [
    "import numpy as np\n",
    "a=np.array([1,2,3,4,5,6,6])\n",
    "a1=np.shape(a)\n",
    "a1"
   ]
  },
  {
   "cell_type": "code",
   "execution_count": 3,
   "id": "2ac35588",
   "metadata": {},
   "outputs": [
    {
     "data": {
      "text/plain": [
       "(1, 7)"
      ]
     },
     "execution_count": 3,
     "metadata": {},
     "output_type": "execute_result"
    }
   ],
   "source": [
    "a=np.array([[1,2,3,4,5,6,6]])\n",
    "a1=np.shape(a)\n",
    "a1"
   ]
  },
  {
   "cell_type": "code",
   "execution_count": 7,
   "id": "0b13e86d",
   "metadata": {},
   "outputs": [
    {
     "data": {
      "text/plain": [
       "(2, 4)"
      ]
     },
     "execution_count": 7,
     "metadata": {},
     "output_type": "execute_result"
    }
   ],
   "source": [
    "a=np.array([[1,2,3,4],[5,6,6,4]])\n",
    "a1=np.shape(a)\n",
    "a1\n"
   ]
  },
  {
   "cell_type": "markdown",
   "id": "409add7a",
   "metadata": {},
   "source": [
    "# Array reshaping"
   ]
  },
  {
   "cell_type": "code",
   "execution_count": 3,
   "id": "c2623cbc",
   "metadata": {},
   "outputs": [
    {
     "data": {
      "text/plain": [
       "array([[1, 2, 3, 4],\n",
       "       [5, 6, 4, 8]])"
      ]
     },
     "execution_count": 3,
     "metadata": {},
     "output_type": "execute_result"
    }
   ],
   "source": [
    "import numpy as np\n",
    "a=np.array([1,2,3,4,5,6,4,8])\n",
    "a1=a.reshape(2,4)\n",
    "a1"
   ]
  },
  {
   "cell_type": "code",
   "execution_count": 9,
   "id": "f6921450",
   "metadata": {},
   "outputs": [
    {
     "data": {
      "text/plain": [
       "array([[2, 3, 4, 5, 6],\n",
       "       [7, 8, 9, 2, 4]])"
      ]
     },
     "execution_count": 9,
     "metadata": {},
     "output_type": "execute_result"
    }
   ],
   "source": [
    "ab=np.array([[2,3,4,5,6,7,8,9,2,4]])\n",
    "a=ab.reshape(2,5)\n",
    "a\n"
   ]
  },
  {
   "cell_type": "code",
   "execution_count": 10,
   "id": "6f100ce3",
   "metadata": {},
   "outputs": [],
   "source": [
    "ab=np.array([[[3,4,5,6,7,8,9,5,4,3,2,12]]])\n",
    "a1=ab.reshape(3,4)"
   ]
  },
  {
   "cell_type": "code",
   "execution_count": 11,
   "id": "632bd620",
   "metadata": {},
   "outputs": [
    {
     "data": {
      "text/plain": [
       "array([[ 3,  4,  5,  6],\n",
       "       [ 7,  8,  9,  5],\n",
       "       [ 4,  3,  2, 12]])"
      ]
     },
     "execution_count": 11,
     "metadata": {},
     "output_type": "execute_result"
    }
   ],
   "source": [
    "a1"
   ]
  },
  {
   "cell_type": "markdown",
   "id": "12a1c6d2",
   "metadata": {},
   "source": [
    "# Array splitting"
   ]
  },
  {
   "cell_type": "code",
   "execution_count": 14,
   "id": "a5e1f895",
   "metadata": {},
   "outputs": [],
   "source": [
    "ab=np.array([2,3,4,5,6,7,8,9,2,4])\n",
    "a=np.array_split(ab,5)"
   ]
  },
  {
   "cell_type": "code",
   "execution_count": 15,
   "id": "df73fed4",
   "metadata": {},
   "outputs": [
    {
     "data": {
      "text/plain": [
       "[array([2, 3]), array([4, 5]), array([6, 7]), array([8, 9]), array([2, 4])]"
      ]
     },
     "execution_count": 15,
     "metadata": {},
     "output_type": "execute_result"
    }
   ],
   "source": [
    "a"
   ]
  },
  {
   "cell_type": "code",
   "execution_count": 20,
   "id": "fbffdd93",
   "metadata": {},
   "outputs": [],
   "source": [
    "ab=np.array([2,3,4,5,6,7,8,9,2,4])\n",
    "a=np.array_split(ab,8)"
   ]
  },
  {
   "cell_type": "code",
   "execution_count": 19,
   "id": "6cce734b",
   "metadata": {},
   "outputs": [
    {
     "data": {
      "text/plain": [
       "[array([2, 3]),\n",
       " array([4, 5]),\n",
       " array([6]),\n",
       " array([7]),\n",
       " array([8]),\n",
       " array([9]),\n",
       " array([2]),\n",
       " array([4])]"
      ]
     },
     "execution_count": 19,
     "metadata": {},
     "output_type": "execute_result"
    }
   ],
   "source": [
    "a"
   ]
  },
  {
   "cell_type": "code",
   "execution_count": 21,
   "id": "8bf55082",
   "metadata": {},
   "outputs": [
    {
     "data": {
      "text/plain": [
       "9"
      ]
     },
     "execution_count": 21,
     "metadata": {},
     "output_type": "execute_result"
    }
   ],
   "source": [
    "ab[7]"
   ]
  },
  {
   "cell_type": "markdown",
   "id": "055a5826",
   "metadata": {},
   "source": [
    "# Array sorting"
   ]
  },
  {
   "cell_type": "code",
   "execution_count": 27,
   "id": "240dcea8",
   "metadata": {},
   "outputs": [
    {
     "data": {
      "text/plain": [
       "array([[2, 2, 3, 4, 4, 5, 6, 7, 8, 9]])"
      ]
     },
     "execution_count": 27,
     "metadata": {},
     "output_type": "execute_result"
    }
   ],
   "source": [
    "ab=np.array([[2,3,4,5,6,7,8,9,2,4]])\n",
    "a1=np.sort(ab)\n",
    "\n",
    "a1"
   ]
  },
  {
   "cell_type": "code",
   "execution_count": 28,
   "id": "ea11cf65",
   "metadata": {},
   "outputs": [],
   "source": [
    "ab=np.array([2,3,4,5,6,7,8,9,2,4])\n",
    "a1=np.sort(ab)\n"
   ]
  },
  {
   "cell_type": "code",
   "execution_count": 29,
   "id": "ae4d26d4",
   "metadata": {},
   "outputs": [
    {
     "data": {
      "text/plain": [
       "array([2, 2, 3, 4, 4, 5, 6, 7, 8, 9])"
      ]
     },
     "execution_count": 29,
     "metadata": {},
     "output_type": "execute_result"
    }
   ],
   "source": [
    "a1"
   ]
  },
  {
   "cell_type": "code",
   "execution_count": 36,
   "id": "4512afcf",
   "metadata": {},
   "outputs": [],
   "source": [
    "ab=np.array([2,3,4,5,6,7,8,9,2,4])\n",
    "a1=np.flip(ab)"
   ]
  },
  {
   "cell_type": "code",
   "execution_count": 38,
   "id": "1e00d8b4",
   "metadata": {},
   "outputs": [
    {
     "data": {
      "text/plain": [
       "array([2, 3, 4, 5, 6, 7, 8, 9, 2, 4])"
      ]
     },
     "execution_count": 38,
     "metadata": {},
     "output_type": "execute_result"
    }
   ],
   "source": [
    "ab"
   ]
  },
  {
   "cell_type": "code",
   "execution_count": null,
   "id": "2a3ef1cd",
   "metadata": {},
   "outputs": [],
   "source": []
  }
 ],
 "metadata": {
  "kernelspec": {
   "display_name": "Python 3 (ipykernel)",
   "language": "python",
   "name": "python3"
  },
  "language_info": {
   "codemirror_mode": {
    "name": "ipython",
    "version": 3
   },
   "file_extension": ".py",
   "mimetype": "text/x-python",
   "name": "python",
   "nbconvert_exporter": "python",
   "pygments_lexer": "ipython3",
   "version": "3.9.13"
  }
 },
 "nbformat": 4,
 "nbformat_minor": 5
}
