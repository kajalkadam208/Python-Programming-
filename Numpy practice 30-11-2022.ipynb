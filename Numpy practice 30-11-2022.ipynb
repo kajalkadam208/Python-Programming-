{
 "cells": [
  {
   "cell_type": "code",
   "execution_count": 2,
   "id": "38c372f1",
   "metadata": {},
   "outputs": [],
   "source": [
    "import numpy as np"
   ]
  },
  {
   "cell_type": "code",
   "execution_count": 3,
   "id": "492503ef",
   "metadata": {},
   "outputs": [
    {
     "name": "stdout",
     "output_type": "stream",
     "text": [
      "[2 3 4 5 5]\n"
     ]
    }
   ],
   "source": [
    "a=np.array([2,3,4,5,5])\n",
    "print(a)"
   ]
  },
  {
   "cell_type": "code",
   "execution_count": 29,
   "id": "4f47681f",
   "metadata": {},
   "outputs": [
    {
     "name": "stdout",
     "output_type": "stream",
     "text": [
      "1\n"
     ]
    }
   ],
   "source": [
    "# 1 D Array\n",
    "a=np.array([2,3,4,5,5])\n",
    "print(a.ndim)"
   ]
  },
  {
   "cell_type": "code",
   "execution_count": 31,
   "id": "10292441",
   "metadata": {},
   "outputs": [
    {
     "name": "stdout",
     "output_type": "stream",
     "text": [
      "0\n"
     ]
    }
   ],
   "source": [
    "# 0 D Array\n",
    "a=np.array(20)\n",
    "print(a.ndim)"
   ]
  },
  {
   "cell_type": "code",
   "execution_count": 32,
   "id": "aaff357d",
   "metadata": {},
   "outputs": [
    {
     "name": "stdout",
     "output_type": "stream",
     "text": [
      "2\n"
     ]
    }
   ],
   "source": [
    "# 2 D Array\n",
    "a=np.array([[20,13,24,15,5]])\n",
    "print(a.ndim)"
   ]
  },
  {
   "cell_type": "code",
   "execution_count": 33,
   "id": "01ea43b0",
   "metadata": {},
   "outputs": [
    {
     "name": "stdout",
     "output_type": "stream",
     "text": [
      "3\n"
     ]
    }
   ],
   "source": [
    "# 3 D Array\n",
    "a=np.array([[[20,12,10,4,60,7]]])\n",
    "print(a.ndim)"
   ]
  },
  {
   "cell_type": "code",
   "execution_count": 9,
   "id": "92c8fc03",
   "metadata": {},
   "outputs": [
    {
     "data": {
      "text/plain": [
       "array([1, 2, 3, 4, 5, 6, 7, 8])"
      ]
     },
     "execution_count": 9,
     "metadata": {},
     "output_type": "execute_result"
    }
   ],
   "source": [
    "ab=np.array([1,2,3,4,5,6,7,8])\n",
    "ab\n",
    "    "
   ]
  },
  {
   "cell_type": "code",
   "execution_count": 10,
   "id": "420bb0e2",
   "metadata": {},
   "outputs": [
    {
     "name": "stdout",
     "output_type": "stream",
     "text": [
      "1\n"
     ]
    }
   ],
   "source": [
    "ab=np.array([1,2,3,4,5,6,7,8])\n",
    "print(ab.ndim)"
   ]
  },
  {
   "cell_type": "code",
   "execution_count": 15,
   "id": "95b7d535",
   "metadata": {},
   "outputs": [
    {
     "name": "stdout",
     "output_type": "stream",
     "text": [
      "2\n"
     ]
    }
   ],
   "source": [
    "ab=np.array([[2,3,4,5],[6,6,7,8]])\n",
    "print(ab.ndim)"
   ]
  },
  {
   "cell_type": "code",
   "execution_count": 12,
   "id": "34b60568",
   "metadata": {},
   "outputs": [
    {
     "name": "stdout",
     "output_type": "stream",
     "text": [
      "0\n"
     ]
    }
   ],
   "source": [
    "ab=np.array(27)\n",
    "print(ab.ndim)"
   ]
  },
  {
   "cell_type": "code",
   "execution_count": 18,
   "id": "c0b094f2",
   "metadata": {},
   "outputs": [
    {
     "name": "stdout",
     "output_type": "stream",
     "text": [
      "[2 3 4 5]\n",
      "[6 6 7 8]\n"
     ]
    }
   ],
   "source": [
    "ab=np.array([[2,3,4,5],[6,6,7,8]])\n",
    "for x in ab:\n",
    "    print(x)"
   ]
  },
  {
   "cell_type": "code",
   "execution_count": 20,
   "id": "cbeae2c4",
   "metadata": {},
   "outputs": [
    {
     "name": "stdout",
     "output_type": "stream",
     "text": [
      "3\n"
     ]
    }
   ],
   "source": [
    "ab=np.array([[[2,3,4,5],[6,6,7,8]]])\n",
    "print(ab.ndim)"
   ]
  },
  {
   "cell_type": "code",
   "execution_count": 4,
   "id": "1fd94857",
   "metadata": {},
   "outputs": [
    {
     "name": "stdout",
     "output_type": "stream",
     "text": [
      "[[[2 3 4]\n",
      "  [2 3 4]]\n",
      "\n",
      " [[2 3 4]\n",
      "  [2 3 4]]\n",
      "\n",
      " [[2 3 4]\n",
      "  [2 3 4]]\n",
      "\n",
      " [[2 3 4]\n",
      "  [2 3 4]]] --- 3\n"
     ]
    },
    {
     "data": {
      "text/plain": [
       "(4, 2, 3)"
      ]
     },
     "execution_count": 4,
     "metadata": {},
     "output_type": "execute_result"
    }
   ],
   "source": [
    "# 3 D Array\n",
    "a=np.array([[[2,3,4],[2,3,4]],[[2,3,4],[2,3,4]],[[2,3,4],[2,3,4]],[[2,3,4],[2,3,4]]])\n",
    "print(a,\"---\",a.ndim)\n",
    "a.shape"
   ]
  },
  {
   "cell_type": "markdown",
   "id": "7418aac9",
   "metadata": {},
   "source": [
    "# Array iterating"
   ]
  },
  {
   "cell_type": "code",
   "execution_count": 21,
   "id": "aa7ba405",
   "metadata": {},
   "outputs": [
    {
     "name": "stdout",
     "output_type": "stream",
     "text": [
      "[2 3 4 5]\n",
      "[6 6 7 8]\n"
     ]
    }
   ],
   "source": [
    "ab=np.array([[2,3,4,5],[6,6,7,8]])\n",
    "for x in ab:\n",
    "    print(x)"
   ]
  },
  {
   "cell_type": "code",
   "execution_count": 27,
   "id": "01af936a",
   "metadata": {},
   "outputs": [
    {
     "name": "stdout",
     "output_type": "stream",
     "text": [
      "[2 3 4 5]\n",
      "[6 6 7 8]\n"
     ]
    }
   ],
   "source": [
    "ab=np.array([[[2,3,4,5],[6,6,7,8]]])\n",
    "for x in ab:\n",
    "    for y in x:\n",
    "            print(y)\n",
    "        \n"
   ]
  },
  {
   "cell_type": "code",
   "execution_count": 28,
   "id": "40a88c34",
   "metadata": {},
   "outputs": [
    {
     "name": "stdout",
     "output_type": "stream",
     "text": [
      "2\n",
      "3\n",
      "4\n",
      "5\n",
      "6\n",
      "6\n",
      "7\n",
      "8\n"
     ]
    }
   ],
   "source": [
    "ab=np.array([[[2,3,4,5],[6,6,7,8]]])\n",
    "for x in ab:\n",
    "    for y in x:\n",
    "        for y1 in y:\n",
    "            print(y1)"
   ]
  },
  {
   "cell_type": "code",
   "execution_count": 34,
   "id": "489ec236",
   "metadata": {},
   "outputs": [
    {
     "name": "stdout",
     "output_type": "stream",
     "text": [
      "7\n"
     ]
    }
   ],
   "source": [
    "ab=np.array([2,3,4,6,6,7,8])\n",
    "print(len(ab))"
   ]
  },
  {
   "cell_type": "markdown",
   "id": "3a15ccce",
   "metadata": {},
   "source": [
    "# Shape(Array)"
   ]
  },
  {
   "cell_type": "code",
   "execution_count": 25,
   "id": "64a32d2e",
   "metadata": {},
   "outputs": [
    {
     "data": {
      "text/plain": [
       "(8,)"
      ]
     },
     "execution_count": 25,
     "metadata": {},
     "output_type": "execute_result"
    }
   ],
   "source": [
    "ab=np.array([2,3,4,6,6,7,8,4])\n",
    "ab1=np.shape(ab)\n",
    "ab1"
   ]
  },
  {
   "cell_type": "code",
   "execution_count": 27,
   "id": "c692ad49",
   "metadata": {},
   "outputs": [
    {
     "data": {
      "text/plain": [
       "(2, 4)"
      ]
     },
     "execution_count": 27,
     "metadata": {},
     "output_type": "execute_result"
    }
   ],
   "source": [
    "ab=np.array([[2,3,4,6],[6,7,8,4]])\n",
    "ab1=np.shape(ab)\n",
    "ab1"
   ]
  },
  {
   "cell_type": "markdown",
   "id": "09eebbb4",
   "metadata": {},
   "source": [
    "# Array reshaping"
   ]
  },
  {
   "cell_type": "code",
   "execution_count": 40,
   "id": "a1e5de8f",
   "metadata": {},
   "outputs": [
    {
     "data": {
      "text/plain": [
       "array([[2, 3, 4, 6],\n",
       "       [6, 7, 8, 4]])"
      ]
     },
     "execution_count": 40,
     "metadata": {},
     "output_type": "execute_result"
    }
   ],
   "source": [
    "ab=np.array([2,3,4,6,6,7,8,4])\n",
    "a1=ab.reshape(2,4)\n",
    "a1"
   ]
  },
  {
   "cell_type": "code",
   "execution_count": 41,
   "id": "705e638a",
   "metadata": {},
   "outputs": [],
   "source": [
    "ab=np.array([2,3,4,6,6,7,8,4,3,4])\n",
    "c=ab.reshape(5,2)"
   ]
  },
  {
   "cell_type": "code",
   "execution_count": 42,
   "id": "d1fb3ee3",
   "metadata": {},
   "outputs": [
    {
     "data": {
      "text/plain": [
       "array([[2, 3],\n",
       "       [4, 6],\n",
       "       [6, 7],\n",
       "       [8, 4],\n",
       "       [3, 4]])"
      ]
     },
     "execution_count": 42,
     "metadata": {},
     "output_type": "execute_result"
    }
   ],
   "source": [
    "c"
   ]
  },
  {
   "cell_type": "markdown",
   "id": "50186ac6",
   "metadata": {},
   "source": [
    "# operations on numpy"
   ]
  },
  {
   "cell_type": "code",
   "execution_count": 43,
   "id": "51c0941b",
   "metadata": {},
   "outputs": [],
   "source": [
    "ab=np.array([2,3,4,6,6,7,8,4,3,4])\n",
    "ab1=np.mean(ab)"
   ]
  },
  {
   "cell_type": "code",
   "execution_count": 44,
   "id": "ae2de98a",
   "metadata": {},
   "outputs": [
    {
     "data": {
      "text/plain": [
       "4.7"
      ]
     },
     "execution_count": 44,
     "metadata": {},
     "output_type": "execute_result"
    }
   ],
   "source": [
    "ab1"
   ]
  },
  {
   "cell_type": "code",
   "execution_count": 45,
   "id": "4423bff4",
   "metadata": {},
   "outputs": [
    {
     "data": {
      "text/plain": [
       "47"
      ]
     },
     "execution_count": 45,
     "metadata": {},
     "output_type": "execute_result"
    }
   ],
   "source": [
    "ab=np.array([2,3,4,6,6,7,8,4,3,4])\n",
    "ab1=np.sum(ab)\n",
    "ab1"
   ]
  },
  {
   "cell_type": "code",
   "execution_count": 47,
   "id": "9b95bf2a",
   "metadata": {},
   "outputs": [
    {
     "data": {
      "text/plain": [
       "8"
      ]
     },
     "execution_count": 47,
     "metadata": {},
     "output_type": "execute_result"
    }
   ],
   "source": [
    "ab=np.array([2,3,4,6,6,7,8,4,3,4])\n",
    "ab1=np.max(ab)\n",
    "ab1"
   ]
  },
  {
   "cell_type": "code",
   "execution_count": 48,
   "id": "bd5aa42c",
   "metadata": {},
   "outputs": [
    {
     "data": {
      "text/plain": [
       "2"
      ]
     },
     "execution_count": 48,
     "metadata": {},
     "output_type": "execute_result"
    }
   ],
   "source": [
    "ab=np.array([2,3,4,6,6,7,8,4,3,4])\n",
    "ab1=np.min(ab)\n",
    "ab1"
   ]
  },
  {
   "cell_type": "code",
   "execution_count": 49,
   "id": "602531e3",
   "metadata": {},
   "outputs": [
    {
     "data": {
      "text/plain": [
       "1.8466185312619388"
      ]
     },
     "execution_count": 49,
     "metadata": {},
     "output_type": "execute_result"
    }
   ],
   "source": [
    "ab=np.array([2,3,4,6,6,7,8,4,3,4])\n",
    "ab1=np.std(ab)\n",
    "ab1"
   ]
  },
  {
   "cell_type": "code",
   "execution_count": 50,
   "id": "f5e1d34a",
   "metadata": {},
   "outputs": [
    {
     "data": {
      "text/plain": [
       "3.41"
      ]
     },
     "execution_count": 50,
     "metadata": {},
     "output_type": "execute_result"
    }
   ],
   "source": [
    "ab=np.array([2,3,4,6,6,7,8,4,3,4])\n",
    "ab1=np.var(ab)\n",
    "ab1"
   ]
  },
  {
   "cell_type": "code",
   "execution_count": 55,
   "id": "71d7f35e",
   "metadata": {},
   "outputs": [
    {
     "data": {
      "text/plain": [
       "4.7"
      ]
     },
     "execution_count": 55,
     "metadata": {},
     "output_type": "execute_result"
    }
   ],
   "source": [
    "ab=np.array([[2,3,4,6,6,7,8,4,3,4]])\n",
    "c=np.mean(ab)\n",
    "c"
   ]
  },
  {
   "cell_type": "markdown",
   "id": "eb9d4f10",
   "metadata": {},
   "source": [
    "# Array splitting"
   ]
  },
  {
   "cell_type": "code",
   "execution_count": 58,
   "id": "72c4acca",
   "metadata": {},
   "outputs": [
    {
     "data": {
      "text/plain": [
       "[array([2, 3]), array([4, 5]), array([6, 7]), array([10, 23]), array([45, 56])]"
      ]
     },
     "execution_count": 58,
     "metadata": {},
     "output_type": "execute_result"
    }
   ],
   "source": [
    "ab=np.array([2,3,4,5,6,7,10,23,45,56])\n",
    "ab1=np.array_split(ab,5)\n",
    "ab1"
   ]
  },
  {
   "cell_type": "code",
   "execution_count": 3,
   "id": "2daa06e3",
   "metadata": {},
   "outputs": [
    {
     "data": {
      "text/plain": [
       "[array([2, 3]), array([4, 5]), array([6, 7]), array([10, 23]), array([45, 56])]"
      ]
     },
     "execution_count": 3,
     "metadata": {},
     "output_type": "execute_result"
    }
   ],
   "source": [
    "import numpy as np\n",
    "ab=np.array([2,3,4,5,6,7,10,23,45,56])\n",
    "ab1=np.array_split(ab,5)\n",
    "ab1"
   ]
  },
  {
   "cell_type": "code",
   "execution_count": 61,
   "id": "d2588fe7",
   "metadata": {},
   "outputs": [
    {
     "name": "stdout",
     "output_type": "stream",
     "text": [
      "[7]\n"
     ]
    }
   ],
   "source": [
    "print(ab1[5])"
   ]
  },
  {
   "cell_type": "code",
   "execution_count": 62,
   "id": "b7a0e6f4",
   "metadata": {},
   "outputs": [],
   "source": [
    "ab=np.array([2,3,4,5,6,7,10,23,45,56])\n",
    "ab1=np.array_split(ab,4)"
   ]
  },
  {
   "cell_type": "code",
   "execution_count": 63,
   "id": "d5b68a7d",
   "metadata": {},
   "outputs": [
    {
     "data": {
      "text/plain": [
       "[array([2, 3, 4]), array([5, 6, 7]), array([10, 23]), array([45, 56])]"
      ]
     },
     "execution_count": 63,
     "metadata": {},
     "output_type": "execute_result"
    }
   ],
   "source": [
    "ab1"
   ]
  },
  {
   "cell_type": "code",
   "execution_count": 64,
   "id": "3b0b32a7",
   "metadata": {},
   "outputs": [],
   "source": [
    "ab=np.array([2,3,4,5,6,7,10,23,45,56])\n",
    "ab1=np.array_split(ab,3)"
   ]
  },
  {
   "cell_type": "code",
   "execution_count": 66,
   "id": "87ea16c2",
   "metadata": {},
   "outputs": [
    {
     "data": {
      "text/plain": [
       "[array([2, 3, 4, 5]), array([ 6,  7, 10]), array([23, 45, 56])]"
      ]
     },
     "execution_count": 66,
     "metadata": {},
     "output_type": "execute_result"
    }
   ],
   "source": [
    "ab1"
   ]
  },
  {
   "cell_type": "code",
   "execution_count": 67,
   "id": "b066ccc8",
   "metadata": {},
   "outputs": [],
   "source": [
    "ab=np.array([2,3,4,5,6,7,10,23,45,56])\n",
    "ab1=np.array_split(ab,9)"
   ]
  },
  {
   "cell_type": "code",
   "execution_count": 68,
   "id": "7e66650a",
   "metadata": {},
   "outputs": [
    {
     "data": {
      "text/plain": [
       "[array([2, 3]),\n",
       " array([4]),\n",
       " array([5]),\n",
       " array([6]),\n",
       " array([7]),\n",
       " array([10]),\n",
       " array([23]),\n",
       " array([45]),\n",
       " array([56])]"
      ]
     },
     "execution_count": 68,
     "metadata": {},
     "output_type": "execute_result"
    }
   ],
   "source": [
    "ab1"
   ]
  },
  {
   "cell_type": "markdown",
   "id": "354a231d",
   "metadata": {},
   "source": [
    "# Array searching"
   ]
  },
  {
   "cell_type": "code",
   "execution_count": 69,
   "id": "82ca3cf3",
   "metadata": {},
   "outputs": [
    {
     "data": {
      "text/plain": [
       "(array([0, 1, 2, 3, 4, 5, 6], dtype=int64),)"
      ]
     },
     "execution_count": 69,
     "metadata": {},
     "output_type": "execute_result"
    }
   ],
   "source": [
    "ab=np.array([2,3,4,5,6,7,10,23,45,56])\n",
    "ab1=np.where(ab<=20)\n",
    "ab1"
   ]
  },
  {
   "cell_type": "code",
   "execution_count": 70,
   "id": "ebe337a5",
   "metadata": {},
   "outputs": [
    {
     "data": {
      "text/plain": [
       "(array([0, 2, 4, 6, 9], dtype=int64),)"
      ]
     },
     "execution_count": 70,
     "metadata": {},
     "output_type": "execute_result"
    }
   ],
   "source": [
    "ab=np.array([2,3,4,5,6,7,10,23,45,56])\n",
    "ab1=np.where(ab%2==0)\n",
    "ab1"
   ]
  },
  {
   "cell_type": "code",
   "execution_count": 71,
   "id": "c6346d3f",
   "metadata": {},
   "outputs": [
    {
     "data": {
      "text/plain": [
       "(array([1, 3, 5, 7, 8], dtype=int64),)"
      ]
     },
     "execution_count": 71,
     "metadata": {},
     "output_type": "execute_result"
    }
   ],
   "source": [
    "ab=np.array([2,3,4,5,6,7,10,23,45,56])\n",
    "ab1=np.where(ab%2==1)\n",
    "ab1"
   ]
  },
  {
   "cell_type": "markdown",
   "id": "92058e10",
   "metadata": {},
   "source": [
    "# ArrayJoining"
   ]
  },
  {
   "cell_type": "code",
   "execution_count": 73,
   "id": "3e6e4a6d",
   "metadata": {},
   "outputs": [
    {
     "data": {
      "text/plain": [
       "array([2, 3, 4, 5, 6, 2, 5, 6, 9, 8, 4])"
      ]
     },
     "execution_count": 73,
     "metadata": {},
     "output_type": "execute_result"
    }
   ],
   "source": [
    "ab1=np.array([2,3,4,5,6])\n",
    "ab2=np.array([2,5,6,9,8,4])\n",
    "ab3=np.concatenate((ab1,ab2))\n",
    "ab3"
   ]
  },
  {
   "cell_type": "code",
   "execution_count": 4,
   "id": "ac9cac9b",
   "metadata": {},
   "outputs": [
    {
     "data": {
      "text/plain": [
       "array([[ 2,  3,  2,  5],\n",
       "       [ 4,  6,  9, 80]])"
      ]
     },
     "execution_count": 4,
     "metadata": {},
     "output_type": "execute_result"
    }
   ],
   "source": [
    "import numpy as np\n",
    "ab1=np.array([[2,3],[4,6]])\n",
    "ab2=np.array([[2,5],[9,80]])\n",
    "ab3=np.concatenate((ab1,ab2),axis=1)\n",
    "ab3\n",
    "             "
   ]
  },
  {
   "cell_type": "code",
   "execution_count": 12,
   "id": "dd2eed8b",
   "metadata": {},
   "outputs": [
    {
     "data": {
      "text/plain": [
       "array([[ 2,  3],\n",
       "       [ 4,  6],\n",
       "       [ 2,  5],\n",
       "       [ 9, 80]])"
      ]
     },
     "execution_count": 12,
     "metadata": {},
     "output_type": "execute_result"
    }
   ],
   "source": [
    "import numpy as np\n",
    "ab1=np.array([[2,3],[4,6]])\n",
    "ab2=np.array([[2,5],[9,80]])\n",
    "ab3=np.concatenate((ab1,ab2),axis=0)\n",
    "ab3"
   ]
  },
  {
   "cell_type": "markdown",
   "id": "b4be9b27",
   "metadata": {},
   "source": [
    "# Array Sorting"
   ]
  },
  {
   "cell_type": "code",
   "execution_count": 2,
   "id": "0bc4ed66",
   "metadata": {},
   "outputs": [
    {
     "data": {
      "text/plain": [
       "array([ 2,  3,  4, 12, 12, 32, 45, 54, 56])"
      ]
     },
     "execution_count": 2,
     "metadata": {},
     "output_type": "execute_result"
    }
   ],
   "source": [
    "import numpy as np\n",
    "ab=np.array([2,3,4,12,45,54,56,32,12])\n",
    "ab1=np.sort(ab)\n",
    "ab1"
   ]
  },
  {
   "cell_type": "code",
   "execution_count": 3,
   "id": "f7f47168",
   "metadata": {},
   "outputs": [
    {
     "data": {
      "text/plain": [
       "array([56, 54, 45, 32, 12, 12,  4,  3,  2])"
      ]
     },
     "execution_count": 3,
     "metadata": {},
     "output_type": "execute_result"
    }
   ],
   "source": [
    "ab=np.array([2,3,4,12,45,54,56,32,12])\n",
    "ab1=-np.sort(-ab)\n",
    "ab1\n"
   ]
  },
  {
   "cell_type": "code",
   "execution_count": 4,
   "id": "2cc184cc",
   "metadata": {},
   "outputs": [
    {
     "data": {
      "text/plain": [
       "array([12, 32, 56, 54, 45, 12,  4,  3,  2])"
      ]
     },
     "execution_count": 4,
     "metadata": {},
     "output_type": "execute_result"
    }
   ],
   "source": [
    "ab=np.array([2,3,4,12,45,54,56,32,12])\n",
    "ab1=np.flip(ab)\n",
    "ab1"
   ]
  },
  {
   "cell_type": "code",
   "execution_count": 5,
   "id": "c7b13707",
   "metadata": {},
   "outputs": [],
   "source": [
    "# Array filtering"
   ]
  },
  {
   "cell_type": "code",
   "execution_count": 6,
   "id": "7a8eb963",
   "metadata": {},
   "outputs": [
    {
     "data": {
      "text/plain": [
       "array([12, 80, 12, 34])"
      ]
     },
     "execution_count": 6,
     "metadata": {},
     "output_type": "execute_result"
    }
   ],
   "source": [
    "ab=np.array([12,23,80,12,23,34])\n",
    "ab1=[True,False,True,True,False,True]\n",
    "c=ab[ab1]\n",
    "c"
   ]
  },
  {
   "cell_type": "code",
   "execution_count": 7,
   "id": "1aa02c3f",
   "metadata": {},
   "outputs": [
    {
     "data": {
      "text/plain": [
       "[True, True, True, True, True, True, True, False]"
      ]
     },
     "execution_count": 7,
     "metadata": {},
     "output_type": "execute_result"
    }
   ],
   "source": [
    "new=[]\n",
    "ab=np.array([3,4,5,12,10,12,13,34])\n",
    "for x in ab:\n",
    "    if x<=20:\n",
    "        new.append(True)\n",
    "    else:\n",
    "        new.append(False)\n",
    "new        \n",
    "        "
   ]
  },
  {
   "cell_type": "code",
   "execution_count": null,
   "id": "214980e3",
   "metadata": {},
   "outputs": [],
   "source": []
  },
  {
   "cell_type": "code",
   "execution_count": null,
   "id": "ca53766b",
   "metadata": {},
   "outputs": [],
   "source": []
  }
 ],
 "metadata": {
  "kernelspec": {
   "display_name": "Python 3 (ipykernel)",
   "language": "python",
   "name": "python3"
  },
  "language_info": {
   "codemirror_mode": {
    "name": "ipython",
    "version": 3
   },
   "file_extension": ".py",
   "mimetype": "text/x-python",
   "name": "python",
   "nbconvert_exporter": "python",
   "pygments_lexer": "ipython3",
   "version": "3.9.13"
  }
 },
 "nbformat": 4,
 "nbformat_minor": 5
}
