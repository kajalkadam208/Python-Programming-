{
 "cells": [
  {
   "cell_type": "markdown",
   "id": "54818ed0",
   "metadata": {},
   "source": [
    "# Arithmetic operations in python"
   ]
  },
  {
   "cell_type": "code",
   "execution_count": 4,
   "id": "7e6b41a1",
   "metadata": {},
   "outputs": [
    {
     "name": "stdout",
     "output_type": "stream",
     "text": [
      "30\n"
     ]
    }
   ],
   "source": [
    "#Addition\n",
    "a=10\n",
    "b=20\n",
    "c=a+b\n",
    "print(c)"
   ]
  },
  {
   "cell_type": "code",
   "execution_count": 5,
   "id": "b9f1e9b1",
   "metadata": {},
   "outputs": [
    {
     "name": "stdout",
     "output_type": "stream",
     "text": [
      "Enter the values20\n",
      "Enter the values40\n",
      "60\n"
     ]
    }
   ],
   "source": [
    "a=int(input(\"Enter the values\"))\n",
    "b=int(input(\"Enter the values\"))\n",
    "c=a+b\n",
    "print(c)"
   ]
  },
  {
   "cell_type": "code",
   "execution_count": 8,
   "id": "4fe31d6c",
   "metadata": {},
   "outputs": [
    {
     "name": "stdout",
     "output_type": "stream",
     "text": [
      "Enter the values9.8\n",
      "Enter the values7\n",
      "addition of a+b is 16.8\n"
     ]
    }
   ],
   "source": [
    "a=float(input(\"Enter the values\"))\n",
    "b=int(input(\"Enter the values\"))\n",
    "c=a+b\n",
    "print(\"addition of a+b is\",c)"
   ]
  },
  {
   "cell_type": "code",
   "execution_count": 9,
   "id": "dbea4d17",
   "metadata": {},
   "outputs": [
    {
     "name": "stdout",
     "output_type": "stream",
     "text": [
      "10\n"
     ]
    }
   ],
   "source": [
    "#substraction\n",
    "a=20\n",
    "b=10\n",
    "c=a-b\n",
    "print(c)"
   ]
  },
  {
   "cell_type": "code",
   "execution_count": 2,
   "id": "d9630513",
   "metadata": {},
   "outputs": [
    {
     "name": "stdout",
     "output_type": "stream",
     "text": [
      "Enter the values40\n",
      "Enter the values20\n",
      "20\n"
     ]
    }
   ],
   "source": [
    "a=int(input(\"Enter the values\"))\n",
    "b=int(input(\"Enter the values\"))\n",
    "c=a-b\n",
    "print(c)"
   ]
  },
  {
   "cell_type": "code",
   "execution_count": 4,
   "id": "50ecf59a",
   "metadata": {},
   "outputs": [
    {
     "name": "stdout",
     "output_type": "stream",
     "text": [
      "300\n"
     ]
    }
   ],
   "source": [
    "#multiplication\n",
    "a=10\n",
    "b=30\n",
    "c=a*b\n",
    "print(c)"
   ]
  },
  {
   "cell_type": "code",
   "execution_count": 6,
   "id": "911519aa",
   "metadata": {},
   "outputs": [
    {
     "name": "stdout",
     "output_type": "stream",
     "text": [
      "Enter the values:9\n",
      "Enter the values:70\n",
      "630\n"
     ]
    }
   ],
   "source": [
    "a=int(input(\"Enter the values:\"))\n",
    "b=int(input(\"Enter the values:\"))\n",
    "c=a*b\n",
    "print(c)"
   ]
  },
  {
   "cell_type": "code",
   "execution_count": 7,
   "id": "c8fdee08",
   "metadata": {},
   "outputs": [
    {
     "name": "stdout",
     "output_type": "stream",
     "text": [
      "Enter the values:70\n",
      "Enter the values:10\n",
      "7.0\n"
     ]
    }
   ],
   "source": [
    "#division\n",
    "a=int(input(\"Enter the values:\"))\n",
    "b=int(input(\"Enter the values:\"))\n",
    "c=a/b\n",
    "print(c)\n"
   ]
  },
  {
   "cell_type": "code",
   "execution_count": 13,
   "id": "b8d0e1ae",
   "metadata": {},
   "outputs": [
    {
     "name": "stdout",
     "output_type": "stream",
     "text": [
      "Enter the values:100\n",
      "Enter the values:5\n",
      "0\n"
     ]
    }
   ],
   "source": [
    "#modulus\n",
    "a=int(input(\"Enter the values:\"))\n",
    "b=int(input(\"Enter the values:\"))\n",
    "c=a%b\n",
    "print(c)\n"
   ]
  },
  {
   "cell_type": "code",
   "execution_count": 17,
   "id": "e1796287",
   "metadata": {},
   "outputs": [
    {
     "name": "stdout",
     "output_type": "stream",
     "text": [
      "Enter the values:2\n",
      "Enter the values:5\n",
      "32\n"
     ]
    }
   ],
   "source": [
    "#Expontiation\n",
    "a=int(input(\"Enter the values:\"))\n",
    "b=int(input(\"Enter the values:\"))\n",
    "c=a**b\n",
    "print(c)\n",
    "\n"
   ]
  },
  {
   "cell_type": "code",
   "execution_count": 19,
   "id": "458169bb",
   "metadata": {},
   "outputs": [
    {
     "name": "stdout",
     "output_type": "stream",
     "text": [
      "Enter the values:15\n",
      "Enter the values:2\n",
      "7\n"
     ]
    }
   ],
   "source": [
    "#Floor division\n",
    "a=int(input(\"Enter the values:\"))\n",
    "b=int(input(\"Enter the values:\"))\n",
    "c=a//b\n",
    "print(c)\n",
    "\n",
    "#the floor division // rounds the result down to the nearest whole number\n"
   ]
  },
  {
   "cell_type": "code",
   "execution_count": null,
   "id": "0732761c",
   "metadata": {},
   "outputs": [],
   "source": []
  }
 ],
 "metadata": {
  "kernelspec": {
   "display_name": "Python 3 (ipykernel)",
   "language": "python",
   "name": "python3"
  },
  "language_info": {
   "codemirror_mode": {
    "name": "ipython",
    "version": 3
   },
   "file_extension": ".py",
   "mimetype": "text/x-python",
   "name": "python",
   "nbconvert_exporter": "python",
   "pygments_lexer": "ipython3",
   "version": "3.9.13"
  }
 },
 "nbformat": 4,
 "nbformat_minor": 5
}
