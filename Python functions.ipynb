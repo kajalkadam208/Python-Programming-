{
 "cells": [
  {
   "cell_type": "code",
   "execution_count": null,
   "id": "617e3f50",
   "metadata": {},
   "outputs": [],
   "source": [
    "#Function is a small block of code.\n",
    "#It is used in python.\n",
    "#It reduces the code.\n",
    "#It defines in def keyword\n",
    "\n"
   ]
  },
  {
   "cell_type": "code",
   "execution_count": 1,
   "id": "12b0bd5e",
   "metadata": {},
   "outputs": [],
   "source": [
    "def person():\n",
    "    a=20\n",
    "    b=10\n",
    "    print(a+b)"
   ]
  },
  {
   "cell_type": "code",
   "execution_count": 2,
   "id": "9c89d996",
   "metadata": {},
   "outputs": [
    {
     "name": "stdout",
     "output_type": "stream",
     "text": [
      "30\n"
     ]
    }
   ],
   "source": [
    "person()"
   ]
  },
  {
   "cell_type": "code",
   "execution_count": 3,
   "id": "d4250cfe",
   "metadata": {},
   "outputs": [],
   "source": [
    "def family():\n",
    "    for x in range(10):\n",
    "        print(\"Data science\")"
   ]
  },
  {
   "cell_type": "code",
   "execution_count": 4,
   "id": "d4855ea3",
   "metadata": {},
   "outputs": [
    {
     "name": "stdout",
     "output_type": "stream",
     "text": [
      "Data science\n",
      "Data science\n",
      "Data science\n",
      "Data science\n",
      "Data science\n",
      "Data science\n",
      "Data science\n",
      "Data science\n",
      "Data science\n",
      "Data science\n"
     ]
    }
   ],
   "source": [
    "family()"
   ]
  },
  {
   "cell_type": "code",
   "execution_count": 5,
   "id": "5497451d",
   "metadata": {},
   "outputs": [],
   "source": [
    "def marks():\n",
    "    a=int(input(\"Enter the values:\"))\n",
    "    b=int(input(\"Enter the values:\"))\n",
    "    c=a+b\n",
    "    print(\"addition of a & b is\",c)"
   ]
  },
  {
   "cell_type": "code",
   "execution_count": 6,
   "id": "1057ff2a",
   "metadata": {},
   "outputs": [
    {
     "name": "stdout",
     "output_type": "stream",
     "text": [
      "Enter the values:10\n",
      "Enter the values:30\n",
      "addition of a & b is 40\n"
     ]
    }
   ],
   "source": [
    "marks()"
   ]
  },
  {
   "cell_type": "code",
   "execution_count": 7,
   "id": "f74be6b3",
   "metadata": {},
   "outputs": [],
   "source": [
    "def radio(a,b):\n",
    "    c=a+b\n",
    "    print(c)"
   ]
  },
  {
   "cell_type": "code",
   "execution_count": 9,
   "id": "b1725bde",
   "metadata": {},
   "outputs": [
    {
     "name": "stdout",
     "output_type": "stream",
     "text": [
      "11\n"
     ]
    }
   ],
   "source": [
    "radio(5,6)"
   ]
  },
  {
   "cell_type": "code",
   "execution_count": 10,
   "id": "e42b8c13",
   "metadata": {},
   "outputs": [
    {
     "name": "stdout",
     "output_type": "stream",
     "text": [
      "50\n"
     ]
    }
   ],
   "source": [
    "radio(20,30)"
   ]
  },
  {
   "cell_type": "code",
   "execution_count": 11,
   "id": "6cf6f1e5",
   "metadata": {},
   "outputs": [],
   "source": [
    "def mouse():\n",
    "    for x in range(2):\n",
    "        a=int(input(\"Enter the values.....\"))\n",
    "        b=int(input(\"Enter the values.....\"))\n",
    "        c=a+b\n",
    "        print(c)"
   ]
  },
  {
   "cell_type": "code",
   "execution_count": 12,
   "id": "cee99bbf",
   "metadata": {},
   "outputs": [
    {
     "name": "stdout",
     "output_type": "stream",
     "text": [
      "Enter the values.....10\n",
      "Enter the values.....30\n",
      "40\n",
      "Enter the values.....20\n",
      "Enter the values.....23\n",
      "43\n"
     ]
    }
   ],
   "source": [
    "mouse()"
   ]
  },
  {
   "cell_type": "code",
   "execution_count": 14,
   "id": "43feb0b7",
   "metadata": {},
   "outputs": [
    {
     "name": "stdout",
     "output_type": "stream",
     "text": [
      "25\n"
     ]
    }
   ],
   "source": [
    "def mouse(a,b):\n",
    "    c=a+b\n",
    "    print(c)\n",
    "mouse(10,15)"
   ]
  },
  {
   "cell_type": "code",
   "execution_count": 15,
   "id": "bf940ffa",
   "metadata": {},
   "outputs": [
    {
     "name": "stdout",
     "output_type": "stream",
     "text": [
      "kajal123\n"
     ]
    }
   ],
   "source": [
    "def mouse(a,b):\n",
    "    c=a+b\n",
    "    print(c)\n",
    "    \n",
    "    \n",
    "a=\"kajal\"\n",
    "b=\"123\"\n",
    "mouse(a,b)"
   ]
  },
  {
   "cell_type": "code",
   "execution_count": 16,
   "id": "8fcf316c",
   "metadata": {},
   "outputs": [
    {
     "data": {
      "text/plain": [
       "30"
      ]
     },
     "execution_count": 16,
     "metadata": {},
     "output_type": "execute_result"
    }
   ],
   "source": [
    "def mouse(a,b):\n",
    "    c=a+b\n",
    "    return(c)\n",
    "\n",
    "mouse(10,20)"
   ]
  },
  {
   "cell_type": "code",
   "execution_count": 17,
   "id": "3d325918",
   "metadata": {},
   "outputs": [
    {
     "data": {
      "text/plain": [
       "47"
      ]
     },
     "execution_count": 17,
     "metadata": {},
     "output_type": "execute_result"
    }
   ],
   "source": [
    "mouse(20,27)"
   ]
  },
  {
   "cell_type": "code",
   "execution_count": 19,
   "id": "911cf1e4",
   "metadata": {},
   "outputs": [
    {
     "data": {
      "text/plain": [
       "15"
      ]
     },
     "execution_count": 19,
     "metadata": {},
     "output_type": "execute_result"
    }
   ],
   "source": [
    "mouse(5,10)"
   ]
  },
  {
   "cell_type": "code",
   "execution_count": 20,
   "id": "0148d106",
   "metadata": {},
   "outputs": [
    {
     "name": "stdout",
     "output_type": "stream",
     "text": [
      "590\n"
     ]
    }
   ],
   "source": [
    "def school():\n",
    "    m=mouse(70,20)\n",
    "    print(m+500)\n",
    "school()\n",
    "    "
   ]
  },
  {
   "cell_type": "code",
   "execution_count": 27,
   "id": "378fd5a2",
   "metadata": {},
   "outputs": [],
   "source": [
    "def mobile(name,num):\n",
    "    l1=[]\n",
    "    if name==\"Rack\" or name==\"Kajal\" or name==\"Sons\":\n",
    "        for x in range(num):\n",
    "            m=int(input(\"Enter the marks: \"))\n",
    "            l1.append(m)\n",
    "    else:\n",
    "        print(\"You entered a wrong name: \",name)\n",
    "        \n",
    "    return l1"
   ]
  },
  {
   "cell_type": "code",
   "execution_count": 29,
   "id": "46457e2e",
   "metadata": {},
   "outputs": [
    {
     "name": "stdout",
     "output_type": "stream",
     "text": [
      "Enter the marks: 90\n",
      "Enter the marks: 80\n",
      "Enter the marks: 87\n",
      "Enter the marks: 76\n",
      "Enter the marks: 90\n"
     ]
    },
    {
     "data": {
      "text/plain": [
       "[90, 80, 87, 76, 90]"
      ]
     },
     "execution_count": 29,
     "metadata": {},
     "output_type": "execute_result"
    }
   ],
   "source": [
    "mobile(\"Kajal\",5)"
   ]
  },
  {
   "cell_type": "code",
   "execution_count": 30,
   "id": "7dc1300f",
   "metadata": {},
   "outputs": [
    {
     "name": "stdout",
     "output_type": "stream",
     "text": [
      "You entered a wrong name:  Pooja\n"
     ]
    },
    {
     "data": {
      "text/plain": [
       "[]"
      ]
     },
     "execution_count": 30,
     "metadata": {},
     "output_type": "execute_result"
    }
   ],
   "source": [
    "mobile(\"Pooja\",3)"
   ]
  },
  {
   "cell_type": "code",
   "execution_count": 31,
   "id": "05fb95e6",
   "metadata": {},
   "outputs": [],
   "source": [
    "def studs():\n",
    "    s1=mobile(\"Kajal\",5)\n",
    "    print(\"I am from studs function...\",s1)"
   ]
  },
  {
   "cell_type": "code",
   "execution_count": 32,
   "id": "a0935354",
   "metadata": {},
   "outputs": [
    {
     "name": "stdout",
     "output_type": "stream",
     "text": [
      "Enter the marks: 90\n",
      "Enter the marks: 87\n",
      "Enter the marks: 90\n",
      "Enter the marks: 96\n",
      "Enter the marks: 95\n",
      "I am from studs function... [90, 87, 90, 96, 95]\n"
     ]
    }
   ],
   "source": [
    "studs()"
   ]
  },
  {
   "cell_type": "code",
   "execution_count": null,
   "id": "60263cec",
   "metadata": {},
   "outputs": [],
   "source": []
  }
 ],
 "metadata": {
  "kernelspec": {
   "display_name": "Python 3 (ipykernel)",
   "language": "python",
   "name": "python3"
  },
  "language_info": {
   "codemirror_mode": {
    "name": "ipython",
    "version": 3
   },
   "file_extension": ".py",
   "mimetype": "text/x-python",
   "name": "python",
   "nbconvert_exporter": "python",
   "pygments_lexer": "ipython3",
   "version": "3.9.13"
  }
 },
 "nbformat": 4,
 "nbformat_minor": 5
}
