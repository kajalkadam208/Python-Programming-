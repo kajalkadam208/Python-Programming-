{
 "cells": [
  {
   "cell_type": "markdown",
   "id": "5953055c",
   "metadata": {},
   "source": [
    "# Arithmetic operations"
   ]
  },
  {
   "cell_type": "code",
   "execution_count": 2,
   "id": "6a94e15d",
   "metadata": {},
   "outputs": [],
   "source": [
    "#Assigned value"
   ]
  },
  {
   "cell_type": "code",
   "execution_count": 3,
   "id": "54d57411",
   "metadata": {},
   "outputs": [
    {
     "name": "stdout",
     "output_type": "stream",
     "text": [
      "addition of a+b is 30\n"
     ]
    }
   ],
   "source": [
    "a=10\n",
    "b=20\n",
    "print(\"addition of a+b is\",a+b)"
   ]
  },
  {
   "cell_type": "code",
   "execution_count": 4,
   "id": "3d889495",
   "metadata": {},
   "outputs": [
    {
     "name": "stdout",
     "output_type": "stream",
     "text": [
      "Enter the values20\n",
      "Enter the values10\n",
      "addition of a & b is 30\n"
     ]
    }
   ],
   "source": [
    "a=int(input(\"Enter the values\"))\n",
    "b=int(input(\"Enter the values\"))\n",
    "c=a+b\n",
    "print(\"addition of a & b is\",c)"
   ]
  },
  {
   "cell_type": "code",
   "execution_count": 5,
   "id": "87d61401",
   "metadata": {},
   "outputs": [
    {
     "name": "stdout",
     "output_type": "stream",
     "text": [
      "20 + 30\n",
      "Addition = 50\n"
     ]
    }
   ],
   "source": [
    "a=20\n",
    "b=30\n",
    "addition=a+b\n",
    "print(a,\"+\",b)\n",
    "print(\"Addition\",\"=\",addition)"
   ]
  },
  {
   "cell_type": "code",
   "execution_count": 6,
   "id": "007db5da",
   "metadata": {},
   "outputs": [
    {
     "name": "stdout",
     "output_type": "stream",
     "text": [
      "25\n",
      "25\n",
      "Total addition is: 25\n",
      "Total addition is: 25\n",
      "25 25\n"
     ]
    }
   ],
   "source": [
    "a=10\n",
    "b=15\n",
    "c=a+b\n",
    "print(c)\n",
    "print(a+b)\n",
    "print(\"Total addition is:\",c)\n",
    "print(\"Total addition is:\",a+b)\n",
    "print(c,a+b)"
   ]
  },
  {
   "cell_type": "code",
   "execution_count": 7,
   "id": "1a49aef1",
   "metadata": {},
   "outputs": [
    {
     "name": "stdout",
     "output_type": "stream",
     "text": [
      "substraction is= -10 multiplication is= 200 division is= 0.5 modulus is= 10\n"
     ]
    }
   ],
   "source": [
    "a=10\n",
    "b=20\n",
    "c=a-b\n",
    "c=a*b\n",
    "c=a/b\n",
    "c=a%b\n",
    "print(\"substraction is=\",a-b,\"multiplication is=\",a*b,\"division is=\",a/b,\"modulus is=\",a%b)"
   ]
  },
  {
   "cell_type": "code",
   "execution_count": 8,
   "id": "12f8d37b",
   "metadata": {},
   "outputs": [],
   "source": [
    "#User input value"
   ]
  },
  {
   "cell_type": "code",
   "execution_count": 9,
   "id": "ed76c145",
   "metadata": {},
   "outputs": [
    {
     "name": "stdout",
     "output_type": "stream",
     "text": [
      "Enter the values10\n",
      "Enter the values20\n",
      "addition of a & b is 30\n"
     ]
    }
   ],
   "source": [
    "a=int(input(\"Enter the values\"))\n",
    "b=int(input(\"Enter the values\"))\n",
    "c=a+b\n",
    "print(\"addition of a & b is\",c)"
   ]
  },
  {
   "cell_type": "code",
   "execution_count": 10,
   "id": "a9546599",
   "metadata": {},
   "outputs": [
    {
     "name": "stdout",
     "output_type": "stream",
     "text": [
      "Enter the values20\n",
      "Enter the values10\n",
      "addition is= 30 substraction is= 10 multiplication is= 200 division is= 2.0 modulus is= 0\n"
     ]
    }
   ],
   "source": [
    "a=int(input(\"Enter the values\"))\n",
    "b=int(input(\"Enter the values\"))\n",
    "c=a+b\n",
    "c=a-b\n",
    "c=a*b\n",
    "c=a/b\n",
    "c=a%b\n",
    "print(\"addition is=\",a+b,\"substraction is=\",a-b,\"multiplication is=\",a*b,\"division is=\",a/b,\"modulus is=\",a%b)"
   ]
  },
  {
   "cell_type": "markdown",
   "id": "3e22541c",
   "metadata": {},
   "source": [
    "# Geometric functions"
   ]
  },
  {
   "cell_type": "code",
   "execution_count": 11,
   "id": "92428e6c",
   "metadata": {},
   "outputs": [
    {
     "name": "stdout",
     "output_type": "stream",
     "text": [
      "50.272\n",
      "Area of circle is 50.272\n"
     ]
    }
   ],
   "source": [
    "#Assigned value\n",
    "#Circle\n",
    "\n",
    "p=3.142\n",
    "r=4\n",
    "area=p*r*r\n",
    "print(area)\n",
    "print(\"Area of circle is\",area)"
   ]
  },
  {
   "cell_type": "code",
   "execution_count": 12,
   "id": "d6504695",
   "metadata": {},
   "outputs": [
    {
     "name": "stdout",
     "output_type": "stream",
     "text": [
      "110\n",
      "Perimeter of rectangle is: 110\n"
     ]
    }
   ],
   "source": [
    "#rectangle\n",
    "l=25\n",
    "w=30\n",
    "p=2*l+2*w\n",
    "print(p)\n",
    "print(\"Perimeter of rectangle is:\",p)"
   ]
  },
  {
   "cell_type": "code",
   "execution_count": 13,
   "id": "a6f90d75",
   "metadata": {},
   "outputs": [
    {
     "name": "stdout",
     "output_type": "stream",
     "text": [
      "Area of rectangle is 200\n"
     ]
    }
   ],
   "source": [
    "l=20\n",
    "w=10\n",
    "area=l*w\n",
    "print(\"Area of rectangle is\",area)"
   ]
  },
  {
   "cell_type": "code",
   "execution_count": 14,
   "id": "fd004890",
   "metadata": {},
   "outputs": [
    {
     "name": "stdout",
     "output_type": "stream",
     "text": [
      "Area of triangle is 300.0\n"
     ]
    }
   ],
   "source": [
    "#triangle\n",
    "\n",
    "b=20\n",
    "h=30\n",
    "area=0.5*b*h\n",
    "print(\"Area of triangle is\",area)"
   ]
  },
  {
   "cell_type": "code",
   "execution_count": 15,
   "id": "f89ef027",
   "metadata": {},
   "outputs": [
    {
     "name": "stdout",
     "output_type": "stream",
     "text": [
      "40\n",
      "Area of square is: 40\n"
     ]
    }
   ],
   "source": [
    "#Square\n",
    "\n",
    "s=10\n",
    "area=4*s\n",
    "print(area)\n",
    "print(\"Area of square is:\",area)"
   ]
  },
  {
   "cell_type": "code",
   "execution_count": 16,
   "id": "ef02988b",
   "metadata": {},
   "outputs": [
    {
     "name": "stdout",
     "output_type": "stream",
     "text": [
      "Enter the radius4\n",
      "Area of circle is 50.24\n"
     ]
    }
   ],
   "source": [
    "#User input value\n",
    "#Circle\n",
    "\n",
    "p=3.14\n",
    "r=float(input(\"Enter the radius\"))\n",
    "area=p*r*r\n",
    "print(\"Area of circle is\",area)"
   ]
  },
  {
   "cell_type": "code",
   "execution_count": 17,
   "id": "012b4036",
   "metadata": {},
   "outputs": [
    {
     "name": "stdout",
     "output_type": "stream",
     "text": [
      "Enter the length:10\n",
      "Enter the width:20\n",
      "Perimeter of rectangle is: 60.0\n",
      "Area of rectangle is: 200.0\n"
     ]
    }
   ],
   "source": [
    "#Rectangle\n",
    "\n",
    "l=float(input(\"Enter the length:\"))\n",
    "w=float(input(\"Enter the width:\"))\n",
    "perimeter=2*l+2*w\n",
    "print(\"Perimeter of rectangle is:\",perimeter)\n",
    "area=l*w\n",
    "print(\"Area of rectangle is:\",area)"
   ]
  },
  {
   "cell_type": "code",
   "execution_count": null,
   "id": "4b55db5f",
   "metadata": {},
   "outputs": [],
   "source": []
  }
 ],
 "metadata": {
  "kernelspec": {
   "display_name": "Python 3 (ipykernel)",
   "language": "python",
   "name": "python3"
  },
  "language_info": {
   "codemirror_mode": {
    "name": "ipython",
    "version": 3
   },
   "file_extension": ".py",
   "mimetype": "text/x-python",
   "name": "python",
   "nbconvert_exporter": "python",
   "pygments_lexer": "ipython3",
   "version": "3.9.13"
  }
 },
 "nbformat": 4,
 "nbformat_minor": 5
}
