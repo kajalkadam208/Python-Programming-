{
 "cells": [
  {
   "cell_type": "markdown",
   "id": "c9203704",
   "metadata": {},
   "source": [
    "# Lists"
   ]
  },
  {
   "cell_type": "code",
   "execution_count": 1,
   "id": "ab53c7bf",
   "metadata": {},
   "outputs": [],
   "source": [
    "#collection of multiple items in a single variable\n",
    "#changeable,indexed and ordered\n",
    "#it allows duplicate items\n",
    "#it defines in []\n"
   ]
  },
  {
   "cell_type": "code",
   "execution_count": 1,
   "id": "a5d851c1",
   "metadata": {},
   "outputs": [
    {
     "data": {
      "text/plain": [
       "['Pune', 'Karad', 'Satara', 'Sangli', 'Delhi']"
      ]
     },
     "execution_count": 1,
     "metadata": {},
     "output_type": "execute_result"
    }
   ],
   "source": [
    "#methods to add items in the list\n",
    "#append\n",
    "#insert\n",
    "#by index\n",
    "cities=[\"Pune\",\"Karad\",\"Satara\",\"Sangli\"]\n",
    "cities.append(\"Delhi\")\n",
    "cities"
   ]
  },
  {
   "cell_type": "code",
   "execution_count": 2,
   "id": "c3c3c4ce",
   "metadata": {},
   "outputs": [],
   "source": [
    "cities.insert(2,\"Kadegaon\")"
   ]
  },
  {
   "cell_type": "code",
   "execution_count": 3,
   "id": "8ea5b311",
   "metadata": {},
   "outputs": [
    {
     "data": {
      "text/plain": [
       "['Pune', 'Karad', 'Kadegaon', 'Satara', 'Sangli', 'Delhi']"
      ]
     },
     "execution_count": 3,
     "metadata": {},
     "output_type": "execute_result"
    }
   ],
   "source": [
    "cities"
   ]
  },
  {
   "cell_type": "code",
   "execution_count": 4,
   "id": "cbf515a2",
   "metadata": {},
   "outputs": [],
   "source": [
    "cities[1]=\"Nashik\""
   ]
  },
  {
   "cell_type": "code",
   "execution_count": 5,
   "id": "f6fdaae9",
   "metadata": {},
   "outputs": [
    {
     "data": {
      "text/plain": [
       "['Pune', 'Nashik', 'Kadegaon', 'Satara', 'Sangli', 'Delhi']"
      ]
     },
     "execution_count": 5,
     "metadata": {},
     "output_type": "execute_result"
    }
   ],
   "source": [
    "cities"
   ]
  },
  {
   "cell_type": "code",
   "execution_count": 7,
   "id": "63734f98",
   "metadata": {},
   "outputs": [
    {
     "data": {
      "text/plain": [
       "['Pune', 'Karad', 'Satara']"
      ]
     },
     "execution_count": 7,
     "metadata": {},
     "output_type": "execute_result"
    }
   ],
   "source": [
    "#methods to remove items in the list\n",
    "#pop\n",
    "#remove\n",
    "#clear\n",
    "cities=[\"Pune\",\"Karad\",\"Satara\",\"Sangli\"]\n",
    "cities.pop()\n",
    "cities"
   ]
  },
  {
   "cell_type": "code",
   "execution_count": 10,
   "id": "fab27047",
   "metadata": {},
   "outputs": [],
   "source": [
    "cities.remove(\"Karad\")"
   ]
  },
  {
   "cell_type": "code",
   "execution_count": 11,
   "id": "f5800289",
   "metadata": {},
   "outputs": [
    {
     "data": {
      "text/plain": [
       "['Pune', 'Satara']"
      ]
     },
     "execution_count": 11,
     "metadata": {},
     "output_type": "execute_result"
    }
   ],
   "source": [
    "cities"
   ]
  },
  {
   "cell_type": "code",
   "execution_count": 13,
   "id": "b4e09d4a",
   "metadata": {},
   "outputs": [],
   "source": [
    "cities.clear()"
   ]
  },
  {
   "cell_type": "code",
   "execution_count": 14,
   "id": "6e1a60fa",
   "metadata": {},
   "outputs": [
    {
     "data": {
      "text/plain": [
       "[]"
      ]
     },
     "execution_count": 14,
     "metadata": {},
     "output_type": "execute_result"
    }
   ],
   "source": [
    "cities"
   ]
  },
  {
   "cell_type": "code",
   "execution_count": null,
   "id": "046c9c0d",
   "metadata": {},
   "outputs": [],
   "source": []
  },
  {
   "cell_type": "code",
   "execution_count": null,
   "id": "3de9c92f",
   "metadata": {},
   "outputs": [],
   "source": []
  }
 ],
 "metadata": {
  "kernelspec": {
   "display_name": "Python 3 (ipykernel)",
   "language": "python",
   "name": "python3"
  },
  "language_info": {
   "codemirror_mode": {
    "name": "ipython",
    "version": 3
   },
   "file_extension": ".py",
   "mimetype": "text/x-python",
   "name": "python",
   "nbconvert_exporter": "python",
   "pygments_lexer": "ipython3",
   "version": "3.9.13"
  }
 },
 "nbformat": 4,
 "nbformat_minor": 5
}
